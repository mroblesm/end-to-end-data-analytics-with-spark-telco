{
 "cells": [
  {
   "cell_type": "markdown",
   "metadata": {
    "application/vnd.databricks.v1+cell": {
     "inputWidgets": {},
     "nuid": "8023dc7c-ec1c-41a7-a049-c8e2a44a5beb",
     "showTitle": false,
     "title": ""
    }
   },
   "source": [
    "# SPARK hackfest-in-a-box for TELCO - LAB 1"
   ]
  },
  {
   "cell_type": "markdown",
   "metadata": {},
   "source": [
    "The objetive is this lab is to perform exploratory data analysis and data preparation on a customer churn telco dataset "
   ]
  },
  {
   "cell_type": "markdown",
   "metadata": {},
   "source": [
    "## 1 Exploratory data analysis"
   ]
  },
  {
   "cell_type": "markdown",
   "metadata": {},
   "source": [
    "In statistics, exploratory data analysis (EDA) is an approach of analyzing data sets to summarize their main characteristics, often using statistical graphics and other data visualization methods"
   ]
  },
  {
   "cell_type": "code",
   "execution_count": 2,
   "metadata": {},
   "outputs": [],
   "source": [
    "import sys\n",
    "import pyspark\n",
    "from pyspark.sql import SparkSession\n",
    "from pyspark.sql.functions import *\n",
    "from datetime import datetime\n",
    "import random"
   ]
  },
  {
   "cell_type": "code",
   "execution_count": 3,
   "metadata": {},
   "outputs": [
    {
     "name": "stdout",
     "output_type": "stream",
     "text": [
      "....Defining input variables\n"
     ]
    }
   ],
   "source": [
    "# Pre-defined input variables\n",
    "print('....Setting input variables')\n",
    "projectNbr = \"YOUR_PROJECT_NBR\"\n",
    "projectID = \"YOUR_PROJECT_ID\"\n",
    "appBaseName = \"customer-churn-model\"\n",
    "appNameSuffix = \"preprocessing\"\n",
    "appName = f\"{appBaseName}-{appNameSuffix}\"\n",
    "sourceBucketUri = f\"gs://s8s_data_bucket-{projectNbr}/telco_customer_churn_train_data.csv\""
   ]
  },
  {
   "cell_type": "code",
   "execution_count": 4,
   "metadata": {},
   "outputs": [
    {
     "name": "stdout",
     "output_type": "stream",
     "text": [
      "....Initializing spark & spark configs\n"
     ]
    }
   ],
   "source": [
    "# SPARK session creation\n",
    "print('....Initializing spark & spark configs')\n",
    "spark = SparkSession.builder.appName(appName).getOrCreate()"
   ]
  },
  {
   "cell_type": "code",
   "execution_count": 5,
   "metadata": {},
   "outputs": [
    {
     "name": "stdout",
     "output_type": "stream",
     "text": [
      "....Read source data\n"
     ]
    },
    {
     "name": "stderr",
     "output_type": "stream",
     "text": [
      "                                                                                \r"
     ]
    }
   ],
   "source": [
    "# Data loading\n",
    "print('....Read source data')\n",
    "rawChurnDF = spark.read.options(inferSchema = True, header= True).csv(sourceBucketUri)"
   ]
  },
  {
   "cell_type": "code",
   "execution_count": 6,
   "metadata": {},
   "outputs": [
    {
     "name": "stdout",
     "output_type": "stream",
     "text": [
      "root\n",
      " |-- customerID: string (nullable = true)\n",
      " |-- gender: string (nullable = true)\n",
      " |-- SeniorCitizen: integer (nullable = true)\n",
      " |-- Partner: string (nullable = true)\n",
      " |-- Dependents: string (nullable = true)\n",
      " |-- tenure: integer (nullable = true)\n",
      " |-- PhoneService: string (nullable = true)\n",
      " |-- MultipleLines: string (nullable = true)\n",
      " |-- InternetService: string (nullable = true)\n",
      " |-- OnlineSecurity: string (nullable = true)\n",
      " |-- OnlineBackup: string (nullable = true)\n",
      " |-- DeviceProtection: string (nullable = true)\n",
      " |-- TechSupport: string (nullable = true)\n",
      " |-- StreamingTV: string (nullable = true)\n",
      " |-- StreamingMovies: string (nullable = true)\n",
      " |-- Contract: string (nullable = true)\n",
      " |-- PaperlessBilling: string (nullable = true)\n",
      " |-- PaymentMethod: string (nullable = true)\n",
      " |-- MonthlyCharges: double (nullable = true)\n",
      " |-- TotalCharges: string (nullable = true)\n",
      " |-- Churn: string (nullable = true)\n",
      "\n"
     ]
    }
   ],
   "source": [
    "# Show table schema\n",
    "rawChurnDF.printSchema()"
   ]
  },
  {
   "cell_type": "markdown",
   "metadata": {},
   "source": [
    "#### Q - What do you think about the infered data types on the previous cell?\n",
    "* Show a couple of rows from the table using the `show` function\n",
    "* Count the number of rows using the `count` function"
   ]
  },
  {
   "cell_type": "code",
   "execution_count": 7,
   "metadata": {},
   "outputs": [
    {
     "name": "stdout",
     "output_type": "stream",
     "text": [
      "7043\n",
      "-RECORD 0----------------------------\n",
      " customerID       | 7590-VHVEG       \n",
      " gender           | Female           \n",
      " SeniorCitizen    | 0                \n",
      " Partner          | Yes              \n",
      " Dependents       | No               \n",
      " tenure           | 1                \n",
      " PhoneService     | No               \n",
      " MultipleLines    | No phone service \n",
      " InternetService  | DSL              \n",
      " OnlineSecurity   | No               \n",
      " OnlineBackup     | Yes              \n",
      " DeviceProtection | No               \n",
      " TechSupport      | No               \n",
      " StreamingTV      | No               \n",
      " StreamingMovies  | No               \n",
      " Contract         | Month-to-month   \n",
      " PaperlessBilling | Yes              \n",
      " PaymentMethod    | Electronic check \n",
      " MonthlyCharges   | 29.85            \n",
      " TotalCharges     | 29.85            \n",
      " Churn            | No               \n",
      "-RECORD 1----------------------------\n",
      " customerID       | 5575-GNVDE       \n",
      " gender           | Male             \n",
      " SeniorCitizen    | 0                \n",
      " Partner          | No               \n",
      " Dependents       | No               \n",
      " tenure           | 34               \n",
      " PhoneService     | Yes              \n",
      " MultipleLines    | No               \n",
      " InternetService  | DSL              \n",
      " OnlineSecurity   | Yes              \n",
      " OnlineBackup     | No               \n",
      " DeviceProtection | Yes              \n",
      " TechSupport      | No               \n",
      " StreamingTV      | No               \n",
      " StreamingMovies  | No               \n",
      " Contract         | One year         \n",
      " PaperlessBilling | No               \n",
      " PaymentMethod    | Mailed check     \n",
      " MonthlyCharges   | 56.95            \n",
      " TotalCharges     | 1889.5           \n",
      " Churn            | No               \n",
      "only showing top 2 rows\n",
      "\n"
     ]
    }
   ],
   "source": [
    "# _______INSERT_CODE_HERE_______\n",
    "print(rawChurnDF.count())\n",
    "rawChurnDF.show(2,vertical=True)"
   ]
  },
  {
   "cell_type": "markdown",
   "metadata": {},
   "source": [
    "#### Q - Compute the per row distribution statistics, what business insights can you get?\n",
    "* Use the `describe` function"
   ]
  },
  {
   "cell_type": "code",
   "execution_count": 9,
   "metadata": {},
   "outputs": [
    {
     "name": "stderr",
     "output_type": "stream",
     "text": [
      "[Stage 7:>                                                          (0 + 1) / 1]"
     ]
    },
    {
     "name": "stdout",
     "output_type": "stream",
     "text": [
      "-RECORD 0--------------------------------\n",
      " summary          | count                \n",
      " customerID       | 7043                 \n",
      " gender           | 7043                 \n",
      " SeniorCitizen    | 7043                 \n",
      " Partner          | 7043                 \n",
      " Dependents       | 7043                 \n",
      " tenure           | 7043                 \n",
      " PhoneService     | 7043                 \n",
      " MultipleLines    | 7043                 \n",
      " InternetService  | 7043                 \n",
      " OnlineSecurity   | 7043                 \n",
      " OnlineBackup     | 7043                 \n",
      " DeviceProtection | 7043                 \n",
      " TechSupport      | 7043                 \n",
      " StreamingTV      | 7043                 \n",
      " StreamingMovies  | 7043                 \n",
      " Contract         | 7043                 \n",
      " PaperlessBilling | 7043                 \n",
      " PaymentMethod    | 7043                 \n",
      " MonthlyCharges   | 7043                 \n",
      " TotalCharges     | 7043                 \n",
      " Churn            | 7043                 \n",
      "-RECORD 1--------------------------------\n",
      " summary          | mean                 \n",
      " customerID       | null                 \n",
      " gender           | null                 \n",
      " SeniorCitizen    | 0.1621468124378816   \n",
      " Partner          | null                 \n",
      " Dependents       | null                 \n",
      " tenure           | 32.37114865824223    \n",
      " PhoneService     | null                 \n",
      " MultipleLines    | null                 \n",
      " InternetService  | null                 \n",
      " OnlineSecurity   | null                 \n",
      " OnlineBackup     | null                 \n",
      " DeviceProtection | null                 \n",
      " TechSupport      | null                 \n",
      " StreamingTV      | null                 \n",
      " StreamingMovies  | null                 \n",
      " Contract         | null                 \n",
      " PaperlessBilling | null                 \n",
      " PaymentMethod    | null                 \n",
      " MonthlyCharges   | 64.76169246059922    \n",
      " TotalCharges     | 2283.3004408418697   \n",
      " Churn            | null                 \n",
      "-RECORD 2--------------------------------\n",
      " summary          | stddev               \n",
      " customerID       | null                 \n",
      " gender           | null                 \n",
      " SeniorCitizen    | 0.3686116056100135   \n",
      " Partner          | null                 \n",
      " Dependents       | null                 \n",
      " tenure           | 24.559481023094442   \n",
      " PhoneService     | null                 \n",
      " MultipleLines    | null                 \n",
      " InternetService  | null                 \n",
      " OnlineSecurity   | null                 \n",
      " OnlineBackup     | null                 \n",
      " DeviceProtection | null                 \n",
      " TechSupport      | null                 \n",
      " StreamingTV      | null                 \n",
      " StreamingMovies  | null                 \n",
      " Contract         | null                 \n",
      " PaperlessBilling | null                 \n",
      " PaymentMethod    | null                 \n",
      " MonthlyCharges   | 30.090047097678482   \n",
      " TotalCharges     | 2266.771361883145    \n",
      " Churn            | null                 \n",
      "-RECORD 3--------------------------------\n",
      " summary          | min                  \n",
      " customerID       | 0002-ORFBO           \n",
      " gender           | Female               \n",
      " SeniorCitizen    | 0                    \n",
      " Partner          | No                   \n",
      " Dependents       | No                   \n",
      " tenure           | 0                    \n",
      " PhoneService     | No                   \n",
      " MultipleLines    | No                   \n",
      " InternetService  | DSL                  \n",
      " OnlineSecurity   | No                   \n",
      " OnlineBackup     | No                   \n",
      " DeviceProtection | No                   \n",
      " TechSupport      | No                   \n",
      " StreamingTV      | No                   \n",
      " StreamingMovies  | No                   \n",
      " Contract         | Month-to-month       \n",
      " PaperlessBilling | No                   \n",
      " PaymentMethod    | Bank transfer (au... \n",
      " MonthlyCharges   | 18.25                \n",
      " TotalCharges     |                      \n",
      " Churn            | No                   \n",
      "-RECORD 4--------------------------------\n",
      " summary          | max                  \n",
      " customerID       | 9995-HOTOH           \n",
      " gender           | Male                 \n",
      " SeniorCitizen    | 1                    \n",
      " Partner          | Yes                  \n",
      " Dependents       | Yes                  \n",
      " tenure           | 72                   \n",
      " PhoneService     | Yes                  \n",
      " MultipleLines    | Yes                  \n",
      " InternetService  | No                   \n",
      " OnlineSecurity   | Yes                  \n",
      " OnlineBackup     | Yes                  \n",
      " DeviceProtection | Yes                  \n",
      " TechSupport      | Yes                  \n",
      " StreamingTV      | Yes                  \n",
      " StreamingMovies  | Yes                  \n",
      " Contract         | Two year             \n",
      " PaperlessBilling | Yes                  \n",
      " PaymentMethod    | Mailed check         \n",
      " MonthlyCharges   | 118.75               \n",
      " TotalCharges     | 999.9                \n",
      " Churn            | Yes                  \n",
      "\n"
     ]
    },
    {
     "name": "stderr",
     "output_type": "stream",
     "text": [
      "                                                                                \r"
     ]
    }
   ],
   "source": [
    "# _______INSERT_CODE_HERE_______\n",
    "rawChurnDF.describe().show(vertical=True)"
   ]
  },
  {
   "cell_type": "markdown",
   "metadata": {},
   "source": [
    "#### Q - Clean the data, for each column, look for how many rows have None, NULLs, or `' '` values\n",
    "* Using `pyspark.sql.functions` \n",
    "* Using `spark.sql` "
   ]
  },
  {
   "cell_type": "code",
   "execution_count": 10,
   "metadata": {},
   "outputs": [
    {
     "name": "stderr",
     "output_type": "stream",
     "text": [
      "[Stage 9:>                                                          (0 + 1) / 1]"
     ]
    },
    {
     "name": "stdout",
     "output_type": "stream",
     "text": [
      "-RECORD 0---------------\n",
      " customerID       | 0   \n",
      " gender           | 0   \n",
      " SeniorCitizen    | 0   \n",
      " Partner          | 0   \n",
      " Dependents       | 0   \n",
      " tenure           | 0   \n",
      " PhoneService     | 0   \n",
      " MultipleLines    | 0   \n",
      " InternetService  | 0   \n",
      " OnlineSecurity   | 0   \n",
      " OnlineBackup     | 0   \n",
      " DeviceProtection | 0   \n",
      " TechSupport      | 0   \n",
      " StreamingTV      | 0   \n",
      " StreamingMovies  | 0   \n",
      " Contract         | 0   \n",
      " PaperlessBilling | 0   \n",
      " PaymentMethod    | 0   \n",
      " MonthlyCharges   | 0   \n",
      " TotalCharges     | 11  \n",
      " Churn            | 0   \n",
      "\n"
     ]
    },
    {
     "name": "stderr",
     "output_type": "stream",
     "text": [
      "                                                                                \r"
     ]
    }
   ],
   "source": [
    "#INSERT CODE\n",
    "rawChurnDF.select([count(when(col(c).contains('None') | \\\n",
    "                            col(c).contains('NULL') | \\\n",
    "                            (col(c) == '' ) | \\\n",
    "                            (col(c) == ' ')  | \\\n",
    "                            col(c).isNull() | \\\n",
    "                            isnan(c), c \n",
    "                           )).alias(c)\n",
    "                    for c in rawChurnDF.columns]).show(vertical=True)"
   ]
  },
  {
   "cell_type": "code",
   "execution_count": 12,
   "metadata": {},
   "outputs": [
    {
     "name": "stdout",
     "output_type": "stream",
     "text": [
      "Column: customerID\n",
      "+--------+\n",
      "|count(1)|\n",
      "+--------+\n",
      "|       0|\n",
      "+--------+\n",
      "\n",
      "Column: gender\n",
      "+--------+\n",
      "|count(1)|\n",
      "+--------+\n",
      "|       0|\n",
      "+--------+\n",
      "\n",
      "Column: SeniorCitizen\n",
      "+--------+\n",
      "|count(1)|\n",
      "+--------+\n",
      "|       0|\n",
      "+--------+\n",
      "\n",
      "Column: Partner\n",
      "+--------+\n",
      "|count(1)|\n",
      "+--------+\n",
      "|       0|\n",
      "+--------+\n",
      "\n",
      "Column: Dependents\n",
      "+--------+\n",
      "|count(1)|\n",
      "+--------+\n",
      "|       0|\n",
      "+--------+\n",
      "\n",
      "Column: tenure\n",
      "+--------+\n",
      "|count(1)|\n",
      "+--------+\n",
      "|       0|\n",
      "+--------+\n",
      "\n",
      "Column: PhoneService\n",
      "+--------+\n",
      "|count(1)|\n",
      "+--------+\n",
      "|       0|\n",
      "+--------+\n",
      "\n",
      "Column: MultipleLines\n",
      "+--------+\n",
      "|count(1)|\n",
      "+--------+\n",
      "|       0|\n",
      "+--------+\n",
      "\n",
      "Column: InternetService\n",
      "+--------+\n",
      "|count(1)|\n",
      "+--------+\n",
      "|       0|\n",
      "+--------+\n",
      "\n",
      "Column: OnlineSecurity\n",
      "+--------+\n",
      "|count(1)|\n",
      "+--------+\n",
      "|       0|\n",
      "+--------+\n",
      "\n",
      "Column: OnlineBackup\n",
      "+--------+\n",
      "|count(1)|\n",
      "+--------+\n",
      "|       0|\n",
      "+--------+\n",
      "\n",
      "Column: DeviceProtection\n",
      "+--------+\n",
      "|count(1)|\n",
      "+--------+\n",
      "|       0|\n",
      "+--------+\n",
      "\n",
      "Column: TechSupport\n",
      "+--------+\n",
      "|count(1)|\n",
      "+--------+\n",
      "|       0|\n",
      "+--------+\n",
      "\n",
      "Column: StreamingTV\n",
      "+--------+\n",
      "|count(1)|\n",
      "+--------+\n",
      "|       0|\n",
      "+--------+\n",
      "\n",
      "Column: StreamingMovies\n",
      "+--------+\n",
      "|count(1)|\n",
      "+--------+\n",
      "|       0|\n",
      "+--------+\n",
      "\n",
      "Column: Contract\n",
      "+--------+\n",
      "|count(1)|\n",
      "+--------+\n",
      "|       0|\n",
      "+--------+\n",
      "\n",
      "Column: PaperlessBilling\n",
      "+--------+\n",
      "|count(1)|\n",
      "+--------+\n",
      "|       0|\n",
      "+--------+\n",
      "\n",
      "Column: PaymentMethod\n",
      "+--------+\n",
      "|count(1)|\n",
      "+--------+\n",
      "|       0|\n",
      "+--------+\n",
      "\n",
      "Column: MonthlyCharges\n",
      "+--------+\n",
      "|count(1)|\n",
      "+--------+\n",
      "|       0|\n",
      "+--------+\n",
      "\n",
      "Column: TotalCharges\n",
      "+--------+\n",
      "|count(1)|\n",
      "+--------+\n",
      "|      11|\n",
      "+--------+\n",
      "\n",
      "Column: Churn\n",
      "+--------+\n",
      "|count(1)|\n",
      "+--------+\n",
      "|       0|\n",
      "+--------+\n",
      "\n"
     ]
    }
   ],
   "source": [
    "#INSERT CODE, use sql functions to find nulls, emptys, NULLS,NanS ..\n",
    "rawChurnDF.createOrReplaceTempView(\"base_customer_churn\")\n",
    "for c in rawChurnDF.columns:\n",
    "    print('Column: {}'.format(c))\n",
    "    spark.sql(\"select count(*) from base_customer_churn where {} is null or {}=' ' or {} ='' or {} ='NULL'\".format(c,c,c,c)).show()"
   ]
  },
  {
   "cell_type": "markdown",
   "metadata": {},
   "source": [
    "#### Q - Try to identify which columns have categorical values\n",
    "* Using `countDistinc` from `pyspark.sql.functions` \n",
    "* Using `spark.sql` "
   ]
  },
  {
   "cell_type": "code",
   "execution_count": 13,
   "metadata": {},
   "outputs": [
    {
     "name": "stderr",
     "output_type": "stream",
     "text": [
      "[Stage 96:=======================================>              (146 + 5) / 200]"
     ]
    },
    {
     "name": "stdout",
     "output_type": "stream",
     "text": [
      "-RECORD 0--------------------------------\n",
      " count(DISTINCT customerID)       | 7043 \n",
      " count(DISTINCT gender)           | 2    \n",
      " count(DISTINCT SeniorCitizen)    | 2    \n",
      " count(DISTINCT Partner)          | 2    \n",
      " count(DISTINCT Dependents)       | 2    \n",
      " count(DISTINCT tenure)           | 73   \n",
      " count(DISTINCT PhoneService)     | 2    \n",
      " count(DISTINCT MultipleLines)    | 3    \n",
      " count(DISTINCT InternetService)  | 3    \n",
      " count(DISTINCT OnlineSecurity)   | 3    \n",
      " count(DISTINCT OnlineBackup)     | 3    \n",
      " count(DISTINCT DeviceProtection) | 3    \n",
      " count(DISTINCT TechSupport)      | 3    \n",
      " count(DISTINCT StreamingTV)      | 3    \n",
      " count(DISTINCT StreamingMovies)  | 3    \n",
      " count(DISTINCT Contract)         | 3    \n",
      " count(DISTINCT PaperlessBilling) | 2    \n",
      " count(DISTINCT PaymentMethod)    | 4    \n",
      " count(DISTINCT MonthlyCharges)   | 1585 \n",
      " count(DISTINCT TotalCharges)     | 6531 \n",
      " count(DISTINCT Churn)            | 2    \n",
      "\n"
     ]
    },
    {
     "name": "stderr",
     "output_type": "stream",
     "text": [
      "                                                                                \r"
     ]
    }
   ],
   "source": [
    "#INSERT CODE\n",
    "rawChurnDF.select([countDistinct(c) for c in rawChurnDF.columns]).show(vertical=True)"
   ]
  },
  {
   "cell_type": "markdown",
   "metadata": {},
   "source": [
    "#### Q - Draw histograms to understand continous variables dsitributions, , what business insights can you get?\n",
    "* Transform results from `spark.sql` to pandas using `toPandas()` function \n",
    "* Draw histogra using `hist()` "
   ]
  },
  {
   "cell_type": "code",
   "execution_count": 14,
   "metadata": {},
   "outputs": [
    {
     "data": {
      "text/plain": [
       "array([[<AxesSubplot:title={'center':'MonthlyCharges'}>]], dtype=object)"
      ]
     },
     "execution_count": 14,
     "metadata": {},
     "output_type": "execute_result"
    },
    {
     "data": {
      "image/png": "[encoded data removed]",
      "text/plain": [
       "<Figure size 640x480 with 1 Axes>"
      ]
     },
     "metadata": {},
     "output_type": "display_data"
    }
   ],
   "source": [
    "#INSERT CODE\n",
    "MonthlyChargesPDF = spark.sql(\"SELECT MonthlyCharges from base_customer_churn\").toPandas()\n",
    "MonthlyChargesPDF.hist()"
   ]
  },
  {
   "cell_type": "markdown",
   "metadata": {},
   "source": [
    "## 2 Data preprocessing"
   ]
  },
  {
   "cell_type": "markdown",
   "metadata": {},
   "source": [
    "Data preprocessing is the manipulation or dropping of data before it is used in order to ensure or enhance performance, and is an important step in the data mining process. The phrase \"garbage in, garbage out\" is particularly applicable to data mining and machine learning projects. Data-gathering methods are often loosely controlled, resulting in out-of-range values (e.g., Income: −100), impossible data combinations (e.g., Sex: Male, Pregnant: Yes), and missing values, etc."
   ]
  },
  {
   "cell_type": "markdown",
   "metadata": {},
   "source": [
    "#### Q - List data preprocessing steps\n",
    "* Based on the insights derived from the previous section, this the proposed list the preprocessing steps you will apply to the dataset:\n",
    "    * Null,empty .. field replacement with `None` value\n",
    "    * Drop rows with `None` values\n",
    "    * Uniform values in rows (e.g. change No internet service or No phone service to No)\n",
    "    * Bucketize the `tenure` field\n",
    "    * Change field names to `snake_case` "
   ]
  },
  {
   "cell_type": "markdown",
   "metadata": {},
   "source": [
    "#### Q - Write a chain of data transformations serializing data at each step to ensure traceablity and debugging\n",
    "* Generate the following chain of datataframes `nullsReplacedDF`, `nullDroppedDF`,`partiallyProcessedDF`, `modelTrainingReadyDF` and `persistDF`"
   ]
  },
  {
   "cell_type": "code",
   "execution_count": 17,
   "metadata": {},
   "outputs": [
    {
     "data": {
      "text/plain": [
       "11"
      ]
     },
     "execution_count": 17,
     "metadata": {},
     "output_type": "execute_result"
    }
   ],
   "source": [
    "#INSERT CODE\n",
    "print('....Replacing null, empty values ... with None')\n",
    "nullsReplacedDF=rawChurnDF.select([when(col(c).contains('None') | \\\n",
    "                            col(c).contains('NULL') | \\\n",
    "                            (col(c) == '' ) | \\\n",
    "                            (col(c) == ' ')  | \\\n",
    "                            col(c).isNull() | \\\n",
    "                            isnan(c),None).otherwise(col(c)).alias(c) for c in rawChurnDF.columns])"
   ]
  },
  {
   "cell_type": "code",
   "execution_count": 26,
   "metadata": {},
   "outputs": [
    {
     "name": "stdout",
     "output_type": "stream",
     "text": [
      "....Number of rows before dropping None values\n",
      "7043\n",
      "....Dropping None values\n",
      "....Number of rows after dropping None values\n"
     ]
    },
    {
     "name": "stderr",
     "output_type": "stream",
     "text": [
      "[Stage 119:>                                                        (0 + 1) / 1]"
     ]
    },
    {
     "name": "stdout",
     "output_type": "stream",
     "text": [
      "7032\n"
     ]
    },
    {
     "name": "stderr",
     "output_type": "stream",
     "text": [
      "                                                                                \r"
     ]
    }
   ],
   "source": [
    "#INSERT CODE\n",
    "print('....Number of rows before dropping None values')\n",
    "print(nullsReplacedDF.count())\n",
    "print('....Dropping None values')\n",
    "nullDroppedDF = nullsReplacedDF.na.drop()\n",
    "print('....Number of rows after dropping None values')\n",
    "print(nullDroppedDF.count())"
   ]
  },
  {
   "cell_type": "code",
   "execution_count": 27,
   "metadata": {},
   "outputs": [
    {
     "name": "stdout",
     "output_type": "stream",
     "text": [
      "....Homogenization of categorical values\n"
     ]
    }
   ],
   "source": [
    "print('....Homogenization of categorical values')\n",
    "partiallyProcessedDF = nullDroppedDF.select([when( (col(c) == \"No internet service\") | (col(c) == \"No phone service\") , \"No\").otherwise(col(c)).alias(c) for c in nullDroppedDF.columns])"
   ]
  },
  {
   "cell_type": "code",
   "execution_count": 28,
   "metadata": {},
   "outputs": [
    {
     "name": "stdout",
     "output_type": "stream",
     "text": [
      "....Bucketizing the tenure field\n"
     ]
    }
   ],
   "source": [
    "print('....Bucketizing the tenure field')\n",
    "partiallyProcessedDF.createOrReplaceTempView(\"partially_transformed_customer_churn\")\n",
    "modelTrainingReadyDF = spark.sql(\"\"\"\n",
    "                                select  customerID \n",
    "                                        ,gender as Gender\n",
    "                                        ,cast(SeniorCitizen as int) SeniorCitizen\n",
    "                                        ,Partner\n",
    "                                        ,Dependents\n",
    "                                        ,cast(tenure as int)  Tenure\n",
    "                                        ,case when (tenure<=12) then \"Tenure_0-12\"\n",
    "                                              when (tenure>12 and tenure <=24) then \"Tenure_12-24\"\n",
    "                                              when (tenure>24 and tenure <=48) then \"Tenure_24-48\"\n",
    "                                              when (tenure>48 and tenure <=60) then \"Tenure_48-60\"\n",
    "                                              when (tenure>60) then \"Tenure_gt_60\"\n",
    "                                        end as Tenure_Group\n",
    "                                        ,PhoneService\n",
    "                                        ,MultipleLines\n",
    "                                        ,InternetService\n",
    "                                        ,OnlineSecurity\n",
    "                                        ,OnlineBackup\n",
    "                                        ,DeviceProtection\n",
    "                                        ,TechSupport\n",
    "                                        ,StreamingTV\n",
    "                                        ,StreamingMovies\n",
    "                                        ,Contract\n",
    "                                        ,PaperlessBilling\n",
    "                                        ,PaymentMethod\n",
    "                                        ,cast(MonthlyCharges as float) MonthlyCharges\n",
    "                                        ,cast(TotalCharges as float) TotalCharges\n",
    "                                        ,lcase(Churn) as Churn\n",
    "                                from partially_transformed_customer_churn  \n",
    "                                \"\"\")"
   ]
  },
  {
   "cell_type": "code",
   "execution_count": 29,
   "metadata": {},
   "outputs": [
    {
     "name": "stdout",
     "output_type": "stream",
     "text": [
      "....Format column names in snake_case for consistency\n"
     ]
    }
   ],
   "source": [
    "print('....Format column names in snake_case for consistency')\n",
    "persistDF = modelTrainingReadyDF.select(\"customerID\", \"gender\", \"SeniorCitizen\", \"Partner\", \"Dependents\", \"tenure\", \"Tenure_Group\", \"PhoneService\", \"MultipleLines\", \"InternetService\", \"OnlineSecurity\", \"OnlineBackup\", \"DeviceProtection\", \"TechSupport\", \"StreamingTV\", \"StreamingMovies\", \"Contract\", \"PaperlessBilling\", \"PaymentMethod\", \"MonthlyCharges\", \"TotalCharges\",\"Churn\") \\\n",
    "                                .toDF(\"customer_id\", \"gender\", \"senior_citizen\", \"partner\", \"dependents\", \"tenure\", \"tenure_group\", \"phone_service\", \"multiple_lines\", \"internet_service\", \"online_security\", \"online_backup\", \"device_protection\", \"tech_support\", \"streaming_tv\", \"streaming_movies\", \"contract\", \"paperless_billing\", \"payment_method\", \"monthly_charges\", \"total_charges\",\"churn\") "
   ]
  },
  {
   "cell_type": "code",
   "execution_count": 31,
   "metadata": {},
   "outputs": [
    {
     "name": "stdout",
     "output_type": "stream",
     "text": [
      "....Save data in BigQuery for next steps\n"
     ]
    },
    {
     "name": "stderr",
     "output_type": "stream",
     "text": [
      "                                                                                \r"
     ]
    }
   ],
   "source": [
    "print('....Save data in BigQuery for next steps')\n",
    "bqDatasetNm = f\"{projectID}.customer_churn_ds\"\n",
    "bigQueryTargetTableFQN = f\"{bqDatasetNm}.training_data_notebook\"\n",
    "scratchBucketUri = f\"s8s-spark-bucket-{projectNbr}/{appBaseName}/{appNameSuffix}\"\n",
    "spark.conf.set(\"parentProject\", projectID)\n",
    "spark.conf.set(\"temporaryGcsBucket\", scratchBucketUri)\n",
    "\n",
    "persistDF.write.format('bigquery') \\\n",
    ".mode(\"append\")\\\n",
    ".option('table', bigQueryTargetTableFQN) \\\n",
    ".save()"
   ]
  },
  {
   "cell_type": "markdown",
   "metadata": {},
   "source": [
    "## 3 Extra ball\n",
    "Once you have your data in BQ you can use this magic for a full fledge EdA\n",
    "* `%bigquery_stats spark-hackfest-dev.customer_churn_ds.training_data`"
   ]
  },
  {
   "cell_type": "markdown",
   "metadata": {},
   "source": [
    "**End of LAB 1**"
   ]
  }
 ],
 "metadata": {
  "application/vnd.databricks.v1+notebook": {
   "dashboards": [],
   "language": "python",
   "notebookMetadata": {
    "pythonIndentUnit": 4
   },
   "notebookName": "01-data-engineering",
   "notebookOrigID": 1914343434663113,
   "widgets": {}
  },
  "kernelspec": {
   "display_name": "PySpark (Local)",
   "language": "python",
   "name": "local-pyspark"
  },
  "language_info": {
   "codemirror_mode": {
    "name": "ipython",
    "version": 3
   },
   "file_extension": ".py",
   "mimetype": "text/x-python",
   "name": "python",
   "nbconvert_exporter": "python",
   "pygments_lexer": "ipython3",
   "version": "3.7.12"
  },
  "serverless_spark": "{\"name\":\"projects/s8s-spark-ml-mlops/locations/us-central1/sessions/agni-6\",\"uuid\":\"35fda7e3-be7b-4913-99c5-83e97b677386\",\"createTime\":\"2022-08-04T02:37:17.836903Z\",\"jupyterSession\":{},\"spark\":{},\"runtimeInfo\":{},\"state\":\"ACTIVE\",\"stateTime\":\"2022-08-04T02:38:37.084371Z\",\"creator\":\"s8s-lab-sa@s8s-spark-ml-mlops.iam.gserviceaccount.com\",\"runtimeConfig\":{\"containerImage\":\"gcr.io/s8s-spark-ml-mlops/dataproc_serverless_custom_runtime:1.0.3\",\"properties\":{\"spark:spark.executor.instances\":\"2\",\"spark:spark.driver.cores\":\"4\",\"spark:spark.executor.cores\":\"4\",\"spark:spark.eventLog.dir\":\"gs://s8s-sphs-974925525028/35fda7e3-be7b-4913-99c5-83e97b677386/spark-job-history\"}},\"environmentConfig\":{\"executionConfig\":{\"serviceAccount\":\"s8s-lab-sa@s8s-spark-ml-mlops.iam.gserviceaccount.com\",\"subnetworkUri\":\"https://www.googleapis.com/compute/v1/projects/s8s-spark-ml-mlops/regions/us-central1/subnetworks/spark-snet\"},\"peripheralsConfig\":{\"sparkHistoryServerConfig\":{\"dataprocCluster\":\"projects/s8s-spark-ml-mlops/regions/us-central1/clusters/s8s-sphs-974925525028\"}}},\"stateHistory\":[{\"state\":\"CREATING\",\"stateStartTime\":\"2022-08-04T02:37:17.836903Z\"}]}",
  "serverless_spark_kernel_name": "remote-bc514a4a91cec988ad3c15a7-pyspark"
 },
 "nbformat": 4,
 "nbformat_minor": 4
}
